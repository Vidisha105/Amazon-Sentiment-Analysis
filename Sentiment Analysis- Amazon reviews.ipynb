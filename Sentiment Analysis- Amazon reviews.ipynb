{
 "cells": [
  {
   "cell_type": "markdown",
   "id": "e11a046d",
   "metadata": {},
   "source": [
    "# BAX 453 Final Project"
   ]
  },
  {
   "cell_type": "code",
   "execution_count": 1,
   "id": "88f4e15d",
   "metadata": {},
   "outputs": [],
   "source": [
    "import gzip\n",
    "import json\n",
    "import pandas as pd\n",
    "import nltk\n",
    "import numpy as np\n",
    "from sklearn.metrics import classification_report,confusion_matrix,accuracy_score\n",
    "from nltk.tokenize.treebank import TreebankWordDetokenizer\n",
    "import matplotlib.pyplot as plt\n",
    "import seaborn as sns\n",
    "from nltk.tokenize.toktok import ToktokTokenizer\n",
    "import re\n",
    "from wordcloud import WordCloud, STOPWORDS\n",
    "from sklearn.feature_extraction.text import TfidfVectorizer\n",
    "from sklearn.svm import SVC\n"
   ]
  },
  {
   "cell_type": "code",
   "execution_count": 2,
   "id": "929876ed",
   "metadata": {},
   "outputs": [],
   "source": [
    "data = [json.loads(d) for d in gzip.open('C:/Users/dell/Downloads/reviews_Health_and_Personal_Care_5.json.gz', 'r')]"
   ]
  },
  {
   "cell_type": "code",
   "execution_count": 3,
   "id": "ed5d6ef9",
   "metadata": {},
   "outputs": [],
   "source": [
    "\n",
    "df=pd.DataFrame(data)"
   ]
  },
  {
   "cell_type": "code",
   "execution_count": 4,
   "id": "53508973",
   "metadata": {},
   "outputs": [
    {
     "data": {
      "text/html": [
       "<div>\n",
       "<style scoped>\n",
       "    .dataframe tbody tr th:only-of-type {\n",
       "        vertical-align: middle;\n",
       "    }\n",
       "\n",
       "    .dataframe tbody tr th {\n",
       "        vertical-align: top;\n",
       "    }\n",
       "\n",
       "    .dataframe thead th {\n",
       "        text-align: right;\n",
       "    }\n",
       "</style>\n",
       "<table border=\"1\" class=\"dataframe\">\n",
       "  <thead>\n",
       "    <tr style=\"text-align: right;\">\n",
       "      <th></th>\n",
       "      <th>reviewerID</th>\n",
       "      <th>asin</th>\n",
       "      <th>reviewerName</th>\n",
       "      <th>helpful</th>\n",
       "      <th>reviewText</th>\n",
       "      <th>overall</th>\n",
       "      <th>summary</th>\n",
       "      <th>unixReviewTime</th>\n",
       "      <th>reviewTime</th>\n",
       "    </tr>\n",
       "  </thead>\n",
       "  <tbody>\n",
       "    <tr>\n",
       "      <th>0</th>\n",
       "      <td>ALC5GH8CAMAI7</td>\n",
       "      <td>159985130X</td>\n",
       "      <td>AnnN</td>\n",
       "      <td>[1, 1]</td>\n",
       "      <td>This is a great little gadget to have around. ...</td>\n",
       "      <td>5.0</td>\n",
       "      <td>Handy little gadget</td>\n",
       "      <td>1294185600</td>\n",
       "      <td>01 5, 2011</td>\n",
       "    </tr>\n",
       "    <tr>\n",
       "      <th>1</th>\n",
       "      <td>AHKSURW85PJUE</td>\n",
       "      <td>159985130X</td>\n",
       "      <td>AZ buyer \"AZ buyer\"</td>\n",
       "      <td>[1, 1]</td>\n",
       "      <td>I would recommend this for a travel magnifier ...</td>\n",
       "      <td>4.0</td>\n",
       "      <td>Small &amp; may need to encourage battery</td>\n",
       "      <td>1329523200</td>\n",
       "      <td>02 18, 2012</td>\n",
       "    </tr>\n",
       "    <tr>\n",
       "      <th>2</th>\n",
       "      <td>A38RMU1Y5TDP9</td>\n",
       "      <td>159985130X</td>\n",
       "      <td>Bob Tobias \"Robert Tobias\"</td>\n",
       "      <td>[75, 77]</td>\n",
       "      <td>What I liked was the quality of the lens and t...</td>\n",
       "      <td>4.0</td>\n",
       "      <td>Very good but not great</td>\n",
       "      <td>1275955200</td>\n",
       "      <td>06 8, 2010</td>\n",
       "    </tr>\n",
       "    <tr>\n",
       "      <th>3</th>\n",
       "      <td>A1XZUG7DFXXOS4</td>\n",
       "      <td>159985130X</td>\n",
       "      <td>Cat lover</td>\n",
       "      <td>[56, 60]</td>\n",
       "      <td>Love the Great point light pocket magnifier!  ...</td>\n",
       "      <td>4.0</td>\n",
       "      <td>great addition to your purse</td>\n",
       "      <td>1202428800</td>\n",
       "      <td>02 8, 2008</td>\n",
       "    </tr>\n",
       "    <tr>\n",
       "      <th>4</th>\n",
       "      <td>A1MS3M7M7AM13X</td>\n",
       "      <td>159985130X</td>\n",
       "      <td>Cricketoes</td>\n",
       "      <td>[1, 1]</td>\n",
       "      <td>This is very nice. You pull out on the magnifi...</td>\n",
       "      <td>5.0</td>\n",
       "      <td>Very nice and convenient.</td>\n",
       "      <td>1313452800</td>\n",
       "      <td>08 16, 2011</td>\n",
       "    </tr>\n",
       "    <tr>\n",
       "      <th>...</th>\n",
       "      <td>...</td>\n",
       "      <td>...</td>\n",
       "      <td>...</td>\n",
       "      <td>...</td>\n",
       "      <td>...</td>\n",
       "      <td>...</td>\n",
       "      <td>...</td>\n",
       "      <td>...</td>\n",
       "      <td>...</td>\n",
       "    </tr>\n",
       "    <tr>\n",
       "      <th>346350</th>\n",
       "      <td>A11J1FHCK5U06J</td>\n",
       "      <td>B00LJBMCKK</td>\n",
       "      <td>Karinna Ball</td>\n",
       "      <td>[1, 1]</td>\n",
       "      <td>My appetite is definitely suppressed - my ener...</td>\n",
       "      <td>5.0</td>\n",
       "      <td>Great ingredients!</td>\n",
       "      <td>1405555200</td>\n",
       "      <td>07 17, 2014</td>\n",
       "    </tr>\n",
       "    <tr>\n",
       "      <th>346351</th>\n",
       "      <td>AFVKI7BCS3FSX</td>\n",
       "      <td>B00LJBMCKK</td>\n",
       "      <td>Laura hogan</td>\n",
       "      <td>[0, 0]</td>\n",
       "      <td>I was drawn to this particular brand because o...</td>\n",
       "      <td>5.0</td>\n",
       "      <td>Great!</td>\n",
       "      <td>1405468800</td>\n",
       "      <td>07 16, 2014</td>\n",
       "    </tr>\n",
       "    <tr>\n",
       "      <th>346352</th>\n",
       "      <td>A1Y3FEUELH3FTI</td>\n",
       "      <td>B00LJBMCKK</td>\n",
       "      <td>Onlinesalesgirl</td>\n",
       "      <td>[0, 0]</td>\n",
       "      <td>Great Product, Gave extra energy without the j...</td>\n",
       "      <td>5.0</td>\n",
       "      <td>Energy minus the jitters</td>\n",
       "      <td>1405123200</td>\n",
       "      <td>07 12, 2014</td>\n",
       "    </tr>\n",
       "    <tr>\n",
       "      <th>346353</th>\n",
       "      <td>A11LC938XF35XN</td>\n",
       "      <td>B00LJBMCKK</td>\n",
       "      <td>SJ Blouse \"Stacey\"</td>\n",
       "      <td>[0, 0]</td>\n",
       "      <td>I get lots of energy from this product. I felt...</td>\n",
       "      <td>5.0</td>\n",
       "      <td>I get lots of energy from this product.</td>\n",
       "      <td>1405641600</td>\n",
       "      <td>07 18, 2014</td>\n",
       "    </tr>\n",
       "    <tr>\n",
       "      <th>346354</th>\n",
       "      <td>A2I8KUDXTC9WYI</td>\n",
       "      <td>B00LJBMCKK</td>\n",
       "      <td>theresa</td>\n",
       "      <td>[1, 1]</td>\n",
       "      <td>I started using this product because it was re...</td>\n",
       "      <td>5.0</td>\n",
       "      <td>Working</td>\n",
       "      <td>1405555200</td>\n",
       "      <td>07 17, 2014</td>\n",
       "    </tr>\n",
       "  </tbody>\n",
       "</table>\n",
       "<p>346355 rows × 9 columns</p>\n",
       "</div>"
      ],
      "text/plain": [
       "            reviewerID        asin                reviewerName   helpful  \\\n",
       "0        ALC5GH8CAMAI7  159985130X                        AnnN    [1, 1]   \n",
       "1        AHKSURW85PJUE  159985130X         AZ buyer \"AZ buyer\"    [1, 1]   \n",
       "2        A38RMU1Y5TDP9  159985130X  Bob Tobias \"Robert Tobias\"  [75, 77]   \n",
       "3       A1XZUG7DFXXOS4  159985130X                   Cat lover  [56, 60]   \n",
       "4       A1MS3M7M7AM13X  159985130X                  Cricketoes    [1, 1]   \n",
       "...                ...         ...                         ...       ...   \n",
       "346350  A11J1FHCK5U06J  B00LJBMCKK                Karinna Ball    [1, 1]   \n",
       "346351   AFVKI7BCS3FSX  B00LJBMCKK                 Laura hogan    [0, 0]   \n",
       "346352  A1Y3FEUELH3FTI  B00LJBMCKK             Onlinesalesgirl    [0, 0]   \n",
       "346353  A11LC938XF35XN  B00LJBMCKK          SJ Blouse \"Stacey\"    [0, 0]   \n",
       "346354  A2I8KUDXTC9WYI  B00LJBMCKK                     theresa    [1, 1]   \n",
       "\n",
       "                                               reviewText  overall  \\\n",
       "0       This is a great little gadget to have around. ...      5.0   \n",
       "1       I would recommend this for a travel magnifier ...      4.0   \n",
       "2       What I liked was the quality of the lens and t...      4.0   \n",
       "3       Love the Great point light pocket magnifier!  ...      4.0   \n",
       "4       This is very nice. You pull out on the magnifi...      5.0   \n",
       "...                                                   ...      ...   \n",
       "346350  My appetite is definitely suppressed - my ener...      5.0   \n",
       "346351  I was drawn to this particular brand because o...      5.0   \n",
       "346352  Great Product, Gave extra energy without the j...      5.0   \n",
       "346353  I get lots of energy from this product. I felt...      5.0   \n",
       "346354  I started using this product because it was re...      5.0   \n",
       "\n",
       "                                        summary  unixReviewTime   reviewTime  \n",
       "0                           Handy little gadget      1294185600   01 5, 2011  \n",
       "1         Small & may need to encourage battery      1329523200  02 18, 2012  \n",
       "2                       Very good but not great      1275955200   06 8, 2010  \n",
       "3                  great addition to your purse      1202428800   02 8, 2008  \n",
       "4                     Very nice and convenient.      1313452800  08 16, 2011  \n",
       "...                                         ...             ...          ...  \n",
       "346350                       Great ingredients!      1405555200  07 17, 2014  \n",
       "346351                                   Great!      1405468800  07 16, 2014  \n",
       "346352                 Energy minus the jitters      1405123200  07 12, 2014  \n",
       "346353  I get lots of energy from this product.      1405641600  07 18, 2014  \n",
       "346354                                  Working      1405555200  07 17, 2014  \n",
       "\n",
       "[346355 rows x 9 columns]"
      ]
     },
     "execution_count": 4,
     "metadata": {},
     "output_type": "execute_result"
    }
   ],
   "source": [
    "df"
   ]
  },
  {
   "cell_type": "code",
   "execution_count": 6,
   "id": "dc435643",
   "metadata": {},
   "outputs": [
    {
     "data": {
      "text/plain": [
       "0    This is a great little gadget to have around. ...\n",
       "1    I would recommend this for a travel magnifier ...\n",
       "2    What I liked was the quality of the lens and t...\n",
       "3    Love the Great point light pocket magnifier!  ...\n",
       "4    This is very nice. You pull out on the magnifi...\n",
       "Name: reviewText, dtype: object"
      ]
     },
     "execution_count": 6,
     "metadata": {},
     "output_type": "execute_result"
    }
   ],
   "source": [
    "df['reviewText'].head(5)"
   ]
  },
  {
   "cell_type": "code",
   "execution_count": 7,
   "id": "6c833d46",
   "metadata": {},
   "outputs": [
    {
     "data": {
      "text/plain": [
       "5.0    211633\n",
       "4.0     68168\n",
       "3.0     33254\n",
       "2.0     16754\n",
       "1.0     16546\n",
       "Name: overall, dtype: int64"
      ]
     },
     "execution_count": 7,
     "metadata": {},
     "output_type": "execute_result"
    }
   ],
   "source": [
    "df['overall'].value_counts()"
   ]
  },
  {
   "cell_type": "code",
   "execution_count": 8,
   "id": "41745ad2",
   "metadata": {},
   "outputs": [
    {
     "data": {
      "text/plain": [
       "<AxesSubplot:>"
      ]
     },
     "execution_count": 8,
     "metadata": {},
     "output_type": "execute_result"
    },
    {
     "data": {
      "image/png": "[encoded data removed]",
      "text/plain": [
       "<Figure size 432x288 with 1 Axes>"
      ]
     },
     "metadata": {
      "needs_background": "light"
     },
     "output_type": "display_data"
    }
   ],
   "source": [
    "df['overall'].hist(figsize=(6,4))"
   ]
  },
  {
   "cell_type": "code",
   "execution_count": 9,
   "id": "e60ef479",
   "metadata": {},
   "outputs": [],
   "source": [
    "#Assign labels to the data based on ratings less than and equal to 3 as 'Negative', and greater than 3 as 'Positive'\n",
    "df.loc[df['overall']<=3,'review_label']= \"Negative\"\n",
    "df.loc[df['overall']>3,'review_label']=\"Positive\"\n"
   ]
  },
  {
   "cell_type": "code",
   "execution_count": 10,
   "id": "b1c0ada9",
   "metadata": {},
   "outputs": [
    {
     "data": {
      "text/plain": [
       "overall  review_label\n",
       "5.0      Positive        211633\n",
       "4.0      Positive         68168\n",
       "3.0      Negative         33254\n",
       "2.0      Negative         16754\n",
       "1.0      Negative         16546\n",
       "dtype: int64"
      ]
     },
     "execution_count": 10,
     "metadata": {},
     "output_type": "execute_result"
    }
   ],
   "source": [
    "df[['overall','review_label']].value_counts()"
   ]
  },
  {
   "cell_type": "code",
   "execution_count": 11,
   "id": "f9a0c3ca",
   "metadata": {},
   "outputs": [
    {
     "data": {
      "text/plain": [
       "<AxesSubplot:>"
      ]
     },
     "execution_count": 11,
     "metadata": {},
     "output_type": "execute_result"
    },
    {
     "data": {
      "image/png": "[encoded data removed]",
      "text/plain": [
       "<Figure size 360x360 with 1 Axes>"
      ]
     },
     "metadata": {
      "needs_background": "light"
     },
     "output_type": "display_data"
    }
   ],
   "source": [
    "df['review_label'].hist(figsize=(5,5))"
   ]
  },
  {
   "cell_type": "code",
   "execution_count": 12,
   "id": "a3f1f1ee",
   "metadata": {},
   "outputs": [
    {
     "name": "stderr",
     "output_type": "stream",
     "text": [
      "[nltk_data] Downloading package stopwords to\n",
      "[nltk_data]     C:\\Users\\dell\\AppData\\Roaming\\nltk_data...\n",
      "[nltk_data]   Package stopwords is already up-to-date!\n"
     ]
    }
   ],
   "source": [
    "###Forming stoplist containing English  Stopwords\n",
    "\n",
    "nltk.download('stopwords')\n",
    "from nltk.corpus import stopwords\n",
    "stopword = stopwords.words('english')"
   ]
  },
  {
   "cell_type": "code",
   "execution_count": 13,
   "id": "f08694f0",
   "metadata": {},
   "outputs": [],
   "source": [
    "df_new=df.copy()"
   ]
  },
  {
   "cell_type": "code",
   "execution_count": 14,
   "id": "d7bafced",
   "metadata": {},
   "outputs": [
    {
     "data": {
      "text/plain": [
       "Positive    279801\n",
       "Negative     66554\n",
       "Name: review_label, dtype: int64"
      ]
     },
     "execution_count": 14,
     "metadata": {},
     "output_type": "execute_result"
    }
   ],
   "source": [
    "df_new['review_label'].value_counts()"
   ]
  },
  {
   "cell_type": "code",
   "execution_count": 15,
   "id": "61f8315a",
   "metadata": {},
   "outputs": [],
   "source": [
    "df_new.loc[df_new['overall']<=3,'review_label']= 0\n",
    "#df.loc[df['overall']==3,'review_label']=\"Neutral\"\n",
    "df_new.loc[df_new['overall']>3,'review_label']=1"
   ]
  },
  {
   "cell_type": "code",
   "execution_count": 16,
   "id": "56ce9718",
   "metadata": {},
   "outputs": [],
   "source": [
    "df_new['review_label']=df_new['review_label'].astype('int')"
   ]
  },
  {
   "cell_type": "code",
   "execution_count": 17,
   "id": "d8b74cf2",
   "metadata": {},
   "outputs": [
    {
     "data": {
      "text/plain": [
       "reviewerID         object\n",
       "asin               object\n",
       "reviewerName       object\n",
       "helpful            object\n",
       "reviewText         object\n",
       "overall           float64\n",
       "summary            object\n",
       "unixReviewTime      int64\n",
       "reviewTime         object\n",
       "review_label        int32\n",
       "dtype: object"
      ]
     },
     "execution_count": 17,
     "metadata": {},
     "output_type": "execute_result"
    }
   ],
   "source": [
    "df_new.dtypes"
   ]
  },
  {
   "cell_type": "code",
   "execution_count": 18,
   "id": "803fdc8d",
   "metadata": {},
   "outputs": [],
   "source": [
    "\n",
    "#Function for removing all alphanumeric characters and string less than 4 characters\n",
    "def remove_special_characters(text, remove_digits=True):\n",
    "    pattern=r'\\b\\w{1,3}\\b'\n",
    "    text=re.sub(pattern,'',text)\n",
    "    text=re.sub(r\"[0-9]+[a-z]+\",\"\",text)\n",
    "    return text\n",
    "#Apply function on review column\n",
    "df_new['reviewText']=df_new['reviewText'].apply(remove_special_characters)"
   ]
  },
  {
   "cell_type": "code",
   "execution_count": 19,
   "id": "4e04fc44",
   "metadata": {},
   "outputs": [
    {
     "data": {
      "text/html": [
       "<div>\n",
       "<style scoped>\n",
       "    .dataframe tbody tr th:only-of-type {\n",
       "        vertical-align: middle;\n",
       "    }\n",
       "\n",
       "    .dataframe tbody tr th {\n",
       "        vertical-align: top;\n",
       "    }\n",
       "\n",
       "    .dataframe thead th {\n",
       "        text-align: right;\n",
       "    }\n",
       "</style>\n",
       "<table border=\"1\" class=\"dataframe\">\n",
       "  <thead>\n",
       "    <tr style=\"text-align: right;\">\n",
       "      <th></th>\n",
       "      <th>reviewerID</th>\n",
       "      <th>asin</th>\n",
       "      <th>reviewerName</th>\n",
       "      <th>helpful</th>\n",
       "      <th>reviewText</th>\n",
       "      <th>overall</th>\n",
       "      <th>summary</th>\n",
       "      <th>unixReviewTime</th>\n",
       "      <th>reviewTime</th>\n",
       "      <th>review_label</th>\n",
       "    </tr>\n",
       "  </thead>\n",
       "  <tbody>\n",
       "    <tr>\n",
       "      <th>0</th>\n",
       "      <td>ALC5GH8CAMAI7</td>\n",
       "      <td>159985130X</td>\n",
       "      <td>AnnN</td>\n",
       "      <td>[1, 1]</td>\n",
       "      <td>This   great little gadget  have around.  ' al...</td>\n",
       "      <td>5.0</td>\n",
       "      <td>Handy little gadget</td>\n",
       "      <td>1294185600</td>\n",
       "      <td>01 5, 2011</td>\n",
       "      <td>1</td>\n",
       "    </tr>\n",
       "    <tr>\n",
       "      <th>1</th>\n",
       "      <td>AHKSURW85PJUE</td>\n",
       "      <td>159985130X</td>\n",
       "      <td>AZ buyer \"AZ buyer\"</td>\n",
       "      <td>[1, 1]</td>\n",
       "      <td>would recommend this   travel magnifier   occ...</td>\n",
       "      <td>4.0</td>\n",
       "      <td>Small &amp; may need to encourage battery</td>\n",
       "      <td>1329523200</td>\n",
       "      <td>02 18, 2012</td>\n",
       "      <td>1</td>\n",
       "    </tr>\n",
       "    <tr>\n",
       "      <th>2</th>\n",
       "      <td>A38RMU1Y5TDP9</td>\n",
       "      <td>159985130X</td>\n",
       "      <td>Bob Tobias \"Robert Tobias\"</td>\n",
       "      <td>[75, 77]</td>\n",
       "      <td>What  liked   quality   lens   built  light.  ...</td>\n",
       "      <td>4.0</td>\n",
       "      <td>Very good but not great</td>\n",
       "      <td>1275955200</td>\n",
       "      <td>06 8, 2010</td>\n",
       "      <td>1</td>\n",
       "    </tr>\n",
       "    <tr>\n",
       "      <th>3</th>\n",
       "      <td>A1XZUG7DFXXOS4</td>\n",
       "      <td>159985130X</td>\n",
       "      <td>Cat lover</td>\n",
       "      <td>[56, 60]</td>\n",
       "      <td>Love  Great point light pocket magnifier!  wor...</td>\n",
       "      <td>4.0</td>\n",
       "      <td>great addition to your purse</td>\n",
       "      <td>1202428800</td>\n",
       "      <td>02 8, 2008</td>\n",
       "      <td>1</td>\n",
       "    </tr>\n",
       "    <tr>\n",
       "      <th>4</th>\n",
       "      <td>A1MS3M7M7AM13X</td>\n",
       "      <td>159985130X</td>\n",
       "      <td>Cricketoes</td>\n",
       "      <td>[1, 1]</td>\n",
       "      <td>This  very nice.  pull    magnifier when  want...</td>\n",
       "      <td>5.0</td>\n",
       "      <td>Very nice and convenient.</td>\n",
       "      <td>1313452800</td>\n",
       "      <td>08 16, 2011</td>\n",
       "      <td>1</td>\n",
       "    </tr>\n",
       "    <tr>\n",
       "      <th>...</th>\n",
       "      <td>...</td>\n",
       "      <td>...</td>\n",
       "      <td>...</td>\n",
       "      <td>...</td>\n",
       "      <td>...</td>\n",
       "      <td>...</td>\n",
       "      <td>...</td>\n",
       "      <td>...</td>\n",
       "      <td>...</td>\n",
       "      <td>...</td>\n",
       "    </tr>\n",
       "    <tr>\n",
       "      <th>346350</th>\n",
       "      <td>A11J1FHCK5U06J</td>\n",
       "      <td>B00LJBMCKK</td>\n",
       "      <td>Karinna Ball</td>\n",
       "      <td>[1, 1]</td>\n",
       "      <td>appetite  definitely suppressed -  energy lev...</td>\n",
       "      <td>5.0</td>\n",
       "      <td>Great ingredients!</td>\n",
       "      <td>1405555200</td>\n",
       "      <td>07 17, 2014</td>\n",
       "      <td>1</td>\n",
       "    </tr>\n",
       "    <tr>\n",
       "      <th>346351</th>\n",
       "      <td>AFVKI7BCS3FSX</td>\n",
       "      <td>B00LJBMCKK</td>\n",
       "      <td>Laura hogan</td>\n",
       "      <td>[0, 0]</td>\n",
       "      <td>drawn  this particular brand because    natu...</td>\n",
       "      <td>5.0</td>\n",
       "      <td>Great!</td>\n",
       "      <td>1405468800</td>\n",
       "      <td>07 16, 2014</td>\n",
       "      <td>1</td>\n",
       "    </tr>\n",
       "    <tr>\n",
       "      <th>346352</th>\n",
       "      <td>A1Y3FEUELH3FTI</td>\n",
       "      <td>B00LJBMCKK</td>\n",
       "      <td>Onlinesalesgirl</td>\n",
       "      <td>[0, 0]</td>\n",
       "      <td>Great Product, Gave extra energy without  jitt...</td>\n",
       "      <td>5.0</td>\n",
       "      <td>Energy minus the jitters</td>\n",
       "      <td>1405123200</td>\n",
       "      <td>07 12, 2014</td>\n",
       "      <td>1</td>\n",
       "    </tr>\n",
       "    <tr>\n",
       "      <th>346353</th>\n",
       "      <td>A11LC938XF35XN</td>\n",
       "      <td>B00LJBMCKK</td>\n",
       "      <td>SJ Blouse \"Stacey\"</td>\n",
       "      <td>[0, 0]</td>\n",
       "      <td>lots  energy from this product.  felt sluggi...</td>\n",
       "      <td>5.0</td>\n",
       "      <td>I get lots of energy from this product.</td>\n",
       "      <td>1405641600</td>\n",
       "      <td>07 18, 2014</td>\n",
       "      <td>1</td>\n",
       "    </tr>\n",
       "    <tr>\n",
       "      <th>346354</th>\n",
       "      <td>A2I8KUDXTC9WYI</td>\n",
       "      <td>B00LJBMCKK</td>\n",
       "      <td>theresa</td>\n",
       "      <td>[1, 1]</td>\n",
       "      <td>started using this product because   recommen...</td>\n",
       "      <td>5.0</td>\n",
       "      <td>Working</td>\n",
       "      <td>1405555200</td>\n",
       "      <td>07 17, 2014</td>\n",
       "      <td>1</td>\n",
       "    </tr>\n",
       "  </tbody>\n",
       "</table>\n",
       "<p>346355 rows × 10 columns</p>\n",
       "</div>"
      ],
      "text/plain": [
       "            reviewerID        asin                reviewerName   helpful  \\\n",
       "0        ALC5GH8CAMAI7  159985130X                        AnnN    [1, 1]   \n",
       "1        AHKSURW85PJUE  159985130X         AZ buyer \"AZ buyer\"    [1, 1]   \n",
       "2        A38RMU1Y5TDP9  159985130X  Bob Tobias \"Robert Tobias\"  [75, 77]   \n",
       "3       A1XZUG7DFXXOS4  159985130X                   Cat lover  [56, 60]   \n",
       "4       A1MS3M7M7AM13X  159985130X                  Cricketoes    [1, 1]   \n",
       "...                ...         ...                         ...       ...   \n",
       "346350  A11J1FHCK5U06J  B00LJBMCKK                Karinna Ball    [1, 1]   \n",
       "346351   AFVKI7BCS3FSX  B00LJBMCKK                 Laura hogan    [0, 0]   \n",
       "346352  A1Y3FEUELH3FTI  B00LJBMCKK             Onlinesalesgirl    [0, 0]   \n",
       "346353  A11LC938XF35XN  B00LJBMCKK          SJ Blouse \"Stacey\"    [0, 0]   \n",
       "346354  A2I8KUDXTC9WYI  B00LJBMCKK                     theresa    [1, 1]   \n",
       "\n",
       "                                               reviewText  overall  \\\n",
       "0       This   great little gadget  have around.  ' al...      5.0   \n",
       "1        would recommend this   travel magnifier   occ...      4.0   \n",
       "2       What  liked   quality   lens   built  light.  ...      4.0   \n",
       "3       Love  Great point light pocket magnifier!  wor...      4.0   \n",
       "4       This  very nice.  pull    magnifier when  want...      5.0   \n",
       "...                                                   ...      ...   \n",
       "346350   appetite  definitely suppressed -  energy lev...      5.0   \n",
       "346351    drawn  this particular brand because    natu...      5.0   \n",
       "346352  Great Product, Gave extra energy without  jitt...      5.0   \n",
       "346353    lots  energy from this product.  felt sluggi...      5.0   \n",
       "346354   started using this product because   recommen...      5.0   \n",
       "\n",
       "                                        summary  unixReviewTime   reviewTime  \\\n",
       "0                           Handy little gadget      1294185600   01 5, 2011   \n",
       "1         Small & may need to encourage battery      1329523200  02 18, 2012   \n",
       "2                       Very good but not great      1275955200   06 8, 2010   \n",
       "3                  great addition to your purse      1202428800   02 8, 2008   \n",
       "4                     Very nice and convenient.      1313452800  08 16, 2011   \n",
       "...                                         ...             ...          ...   \n",
       "346350                       Great ingredients!      1405555200  07 17, 2014   \n",
       "346351                                   Great!      1405468800  07 16, 2014   \n",
       "346352                 Energy minus the jitters      1405123200  07 12, 2014   \n",
       "346353  I get lots of energy from this product.      1405641600  07 18, 2014   \n",
       "346354                                  Working      1405555200  07 17, 2014   \n",
       "\n",
       "        review_label  \n",
       "0                  1  \n",
       "1                  1  \n",
       "2                  1  \n",
       "3                  1  \n",
       "4                  1  \n",
       "...              ...  \n",
       "346350             1  \n",
       "346351             1  \n",
       "346352             1  \n",
       "346353             1  \n",
       "346354             1  \n",
       "\n",
       "[346355 rows x 10 columns]"
      ]
     },
     "execution_count": 19,
     "metadata": {},
     "output_type": "execute_result"
    }
   ],
   "source": [
    "df_new"
   ]
  },
  {
   "cell_type": "markdown",
   "id": "e8d905d2",
   "metadata": {},
   "source": [
    "# Bag of Words with n-Gram"
   ]
  },
  {
   "cell_type": "code",
   "execution_count": 25,
   "id": "c339bcc3",
   "metadata": {},
   "outputs": [
    {
     "name": "stdout",
     "output_type": "stream",
     "text": [
      "(277084,) (69271,) (277084,) (69271,)\n"
     ]
    },
    {
     "data": {
      "text/plain": [
       "<277084x5000 sparse matrix of type '<class 'numpy.int64'>'\n",
       "\twith 8584637 stored elements in Compressed Sparse Row format>"
      ]
     },
     "execution_count": 25,
     "metadata": {},
     "output_type": "execute_result"
    }
   ],
   "source": [
    "###Forming Bag of Words\n",
    "from sklearn.feature_extraction.text import CountVectorizer\n",
    "from sklearn.model_selection import train_test_split\n",
    "\n",
    "X_train,X_test,y_train,y_test = train_test_split(df_new.reviewText,df_new.review_label,test_size=.2,random_state=0)\n",
    "print(X_train.shape,X_test.shape,y_train.shape,y_test.shape)\n",
    "\n",
    "#cv = CountVectorizer(analyzer = 'word', stop_words=stopword,ngram_range=(2, 2),max_features=10000)\n",
    "cv = CountVectorizer(analyzer = 'word', stop_words=stopword,max_features=5000,ngram_range=(1, 1))\n",
    "X_train = cv.fit_transform(X_train)\n",
    "X_test = cv.transform(X_test)\n",
    "\n",
    "X_train"
   ]
  },
  {
   "cell_type": "code",
   "execution_count": 26,
   "id": "112ff979",
   "metadata": {},
   "outputs": [
    {
     "data": {
      "text/html": [
       "<div>\n",
       "<style scoped>\n",
       "    .dataframe tbody tr th:only-of-type {\n",
       "        vertical-align: middle;\n",
       "    }\n",
       "\n",
       "    .dataframe tbody tr th {\n",
       "        vertical-align: top;\n",
       "    }\n",
       "\n",
       "    .dataframe thead th {\n",
       "        text-align: right;\n",
       "    }\n",
       "</style>\n",
       "<table border=\"1\" class=\"dataframe\">\n",
       "  <thead>\n",
       "    <tr style=\"text-align: right;\">\n",
       "      <th></th>\n",
       "      <th>index</th>\n",
       "      <th>review_label</th>\n",
       "    </tr>\n",
       "  </thead>\n",
       "  <tbody>\n",
       "    <tr>\n",
       "      <th>0</th>\n",
       "      <td>1</td>\n",
       "      <td>0.807622</td>\n",
       "    </tr>\n",
       "    <tr>\n",
       "      <th>1</th>\n",
       "      <td>0</td>\n",
       "      <td>0.192378</td>\n",
       "    </tr>\n",
       "  </tbody>\n",
       "</table>\n",
       "</div>"
      ],
      "text/plain": [
       "   index  review_label\n",
       "0      1      0.807622\n",
       "1      0      0.192378"
      ]
     },
     "execution_count": 26,
     "metadata": {},
     "output_type": "execute_result"
    }
   ],
   "source": [
    "#Checking the distribution on train data\n",
    "dist=pd.DataFrame(y_train.value_counts()/y_train.shape[0]).reset_index()\n",
    "dist"
   ]
  },
  {
   "cell_type": "code",
   "execution_count": 27,
   "id": "a7a2df0e",
   "metadata": {},
   "outputs": [
    {
     "data": {
      "text/html": [
       "<div>\n",
       "<style scoped>\n",
       "    .dataframe tbody tr th:only-of-type {\n",
       "        vertical-align: middle;\n",
       "    }\n",
       "\n",
       "    .dataframe tbody tr th {\n",
       "        vertical-align: top;\n",
       "    }\n",
       "\n",
       "    .dataframe thead th {\n",
       "        text-align: right;\n",
       "    }\n",
       "</style>\n",
       "<table border=\"1\" class=\"dataframe\">\n",
       "  <thead>\n",
       "    <tr style=\"text-align: right;\">\n",
       "      <th></th>\n",
       "      <th>index</th>\n",
       "      <th>review_label</th>\n",
       "    </tr>\n",
       "  </thead>\n",
       "  <tbody>\n",
       "    <tr>\n",
       "      <th>0</th>\n",
       "      <td>1</td>\n",
       "      <td>0.808737</td>\n",
       "    </tr>\n",
       "    <tr>\n",
       "      <th>1</th>\n",
       "      <td>0</td>\n",
       "      <td>0.191263</td>\n",
       "    </tr>\n",
       "  </tbody>\n",
       "</table>\n",
       "</div>"
      ],
      "text/plain": [
       "   index  review_label\n",
       "0      1      0.808737\n",
       "1      0      0.191263"
      ]
     },
     "execution_count": 27,
     "metadata": {},
     "output_type": "execute_result"
    }
   ],
   "source": [
    "#Checking the distribution on test data\n",
    "dist_test=pd.DataFrame(y_test.value_counts()/y_test.shape[0]).reset_index()\n",
    "dist_test"
   ]
  },
  {
   "cell_type": "code",
   "execution_count": 28,
   "id": "98150c84",
   "metadata": {},
   "outputs": [
    {
     "name": "stdout",
     "output_type": "stream",
     "text": [
      "Number of features: 5000\n",
      "features from 200 to 300:\n",
      "['anti', 'antibacterial', 'antibiotic', 'antibiotics', 'antihistamine', 'antioxidant', 'antioxidants', 'antiperspirant', 'antiperspirants', 'antiseptic', 'anxiety', 'anxious', 'anybody', 'anyhow', 'anymore', 'anyone', 'anything', 'anytime', 'anyway', 'anyways', 'anywhere', 'apart', 'apartment', 'apparent', 'apparently', 'appeal', 'appealing', 'appear', 'appearance', 'appeared', 'appears', 'appetite', 'apple', 'appliance', 'appliances', 'application', 'applications', 'applicator', 'applicators', 'applied', 'applies', 'apply', 'applying', 'appointment', 'appreciate', 'appreciated', 'approach', 'appropriate', 'approved', 'approx', 'approximately', 'april', 'arch', 'arches', 'area', 'areas', 'arginine', 'armpit', 'armpits', 'arms', 'arnica', 'aroma', 'aromatherapy', 'around', 'arrival', 'arrive', 'arrived', 'arrives', 'arsenal', 'arthritic', 'arthritis', 'article', 'articles', 'artificial', 'ascorbic', 'aside', 'asked', 'asking', 'asleep', 'aspect', 'aspects', 'aspirin', 'assemble', 'assembly', 'assist', 'assistance', 'associated', 'assortment', 'assume', 'assumed', 'assuming', 'astaxanthin', 'asthma', 'astra', 'athlete', 'athletes', 'athletic', 'atkins', 'attach', 'attached']\n"
     ]
    }
   ],
   "source": [
    "##Getting unique feature names from bag of words\n",
    "\n",
    "feature_names = cv.get_feature_names()\n",
    "print(\"Number of features: {}\".format(len(feature_names)))\n",
    "print(\"features from 200 to 300:\\n{}\".format(feature_names[200:300]))\n"
   ]
  },
  {
   "cell_type": "markdown",
   "id": "1cd43f27",
   "metadata": {},
   "source": [
    "# Classification Models"
   ]
  },
  {
   "cell_type": "markdown",
   "id": "bf15587e",
   "metadata": {},
   "source": [
    "# Logistic regression BOW with n-Gram"
   ]
  },
  {
   "cell_type": "code",
   "execution_count": 29,
   "id": "a0d9776b",
   "metadata": {},
   "outputs": [
    {
     "name": "stdout",
     "output_type": "stream",
     "text": [
      "Training set score: 0.865\n",
      "Test set score: 0.857\n"
     ]
    },
    {
     "name": "stderr",
     "output_type": "stream",
     "text": [
      "C:\\Users\\dell\\anaconda3\\lib\\site-packages\\sklearn\\linear_model\\_logistic.py:763: ConvergenceWarning: lbfgs failed to converge (status=1):\n",
      "STOP: TOTAL NO. of ITERATIONS REACHED LIMIT.\n",
      "\n",
      "Increase the number of iterations (max_iter) or scale the data as shown in:\n",
      "    https://scikit-learn.org/stable/modules/preprocessing.html\n",
      "Please also refer to the documentation for alternative solver options:\n",
      "    https://scikit-learn.org/stable/modules/linear_model.html#logistic-regression\n",
      "  n_iter_i = _check_optimize_result(\n"
     ]
    }
   ],
   "source": [
    "### Logistic regression\n",
    "from sklearn.linear_model import LogisticRegression\n",
    "logreg = LogisticRegression(random_state=13)\n",
    "logreg.fit(X_train, y_train)\n",
    "print(\"Training set score: {:.3f}\".format(logreg.score(X_train, y_train)))\n",
    "print(\"Test set score: {:.3f}\".format(logreg.score(X_test, y_test)))\n"
   ]
  },
  {
   "cell_type": "code",
   "execution_count": 30,
   "id": "60bff382",
   "metadata": {},
   "outputs": [
    {
     "name": "stdout",
     "output_type": "stream",
     "text": [
      "              precision    recall  f1-score   support\n",
      "\n",
      "    Negative       0.71      0.42      0.53     13249\n",
      "    Positive       0.88      0.96      0.92     56022\n",
      "\n",
      "    accuracy                           0.86     69271\n",
      "   macro avg       0.79      0.69      0.72     69271\n",
      "weighted avg       0.84      0.86      0.84     69271\n",
      "\n"
     ]
    }
   ],
   "source": [
    "#Classification report for Logistic Regression \n",
    "log_predict=logreg.predict(X_test)\n",
    "log_bow_report=classification_report(y_test,log_predict,target_names=['Negative','Positive'])\n",
    "print(log_bow_report)\n"
   ]
  },
  {
   "cell_type": "code",
   "execution_count": 31,
   "id": "a0b5505b",
   "metadata": {},
   "outputs": [
    {
     "data": {
      "text/plain": [
       "<AxesSubplot:>"
      ]
     },
     "execution_count": 31,
     "metadata": {},
     "output_type": "execute_result"
    },
    {
     "data": {
      "image/png": "[encoded data removed]",
      "text/plain": [
       "<Figure size 936x576 with 2 Axes>"
      ]
     },
     "metadata": {
      "needs_background": "light"
     },
     "output_type": "display_data"
    }
   ],
   "source": [
    "#Confusion Matrix Plot\n",
    "from sklearn.metrics import confusion_matrix\n",
    "mat = confusion_matrix(y_test, log_predict)\n",
    "plt.figure(figsize=(13, 8))\n",
    "sns.heatmap(mat, annot=True)"
   ]
  },
  {
   "cell_type": "code",
   "execution_count": 32,
   "id": "22024255",
   "metadata": {},
   "outputs": [
    {
     "data": {
      "image/png": "[encoded data removed]",
      "text/plain": [
       "<Figure size 432x288 with 1 Axes>"
      ]
     },
     "metadata": {
      "needs_background": "light"
     },
     "output_type": "display_data"
    }
   ],
   "source": [
    "#ROC curve\n",
    "from sklearn.metrics import roc_curve\n",
    "y_pred_proba = logreg.predict_proba(X_test)[:,1]\n",
    "fpr, tpr, thresholds = roc_curve(y_test, y_pred_proba)\n",
    "plt.plot([0,1],[0,1],'k-')\n",
    "plt.plot(fpr,tpr, label='LogisticREgression')\n",
    "plt.xlabel('fpr')\n",
    "plt.ylabel('tpr')\n",
    "plt.title('ROC curve')\n",
    "plt.show()"
   ]
  },
  {
   "cell_type": "code",
   "execution_count": 33,
   "id": "2ccec091",
   "metadata": {},
   "outputs": [
    {
     "data": {
      "text/plain": [
       "0.855283221856447"
      ]
     },
     "execution_count": 33,
     "metadata": {},
     "output_type": "execute_result"
    }
   ],
   "source": [
    "#Area under ROC curve\n",
    "from sklearn.metrics import roc_auc_score\n",
    "roc_auc_score(y_test,y_pred_proba)"
   ]
  },
  {
   "cell_type": "markdown",
   "id": "8b3a02fd",
   "metadata": {},
   "source": [
    "# RandomForest Classifier with n-Gram"
   ]
  },
  {
   "cell_type": "code",
   "execution_count": 68,
   "id": "c9a3493d",
   "metadata": {},
   "outputs": [
    {
     "name": "stdout",
     "output_type": "stream",
     "text": [
      "Training set score: 1.000\n",
      "Test set score: 0.835\n"
     ]
    }
   ],
   "source": [
    "###Running Random Forest classifier\n",
    "\n",
    "from sklearn.ensemble import RandomForestClassifier\n",
    "rfc = RandomForestClassifier()\n",
    "rfc.fit(X_train, y_train)\n",
    "\n",
    "rfc.score(X_test, y_test)\n",
    "print(\"Training set score: {:.3f}\".format(rfc.score(X_train, y_train)))\n",
    "print(\"Test set score: {:.3f}\".format(rfc.score(X_test, y_test)))"
   ]
  },
  {
   "cell_type": "code",
   "execution_count": 69,
   "id": "7a8c0e74",
   "metadata": {},
   "outputs": [
    {
     "name": "stdout",
     "output_type": "stream",
     "text": [
      "              precision    recall  f1-score   support\n",
      "\n",
      "    Negative       0.82      0.18      0.29     13249\n",
      "    Positive       0.84      0.99      0.91     56022\n",
      "\n",
      "    accuracy                           0.84     69271\n",
      "   macro avg       0.83      0.58      0.60     69271\n",
      "weighted avg       0.83      0.84      0.79     69271\n",
      "\n"
     ]
    }
   ],
   "source": [
    "#Classification report for RandomForest Classifier \n",
    "rfc_predict=rfc.predict(X_test)\n",
    "rfc_bow_report=classification_report(y_test,rfc_predict,target_names=['Negative','Positive'])\n",
    "print(rfc_bow_report)"
   ]
  },
  {
   "cell_type": "code",
   "execution_count": 70,
   "id": "07290ee3",
   "metadata": {},
   "outputs": [
    {
     "data": {
      "text/plain": [
       "<AxesSubplot:>"
      ]
     },
     "execution_count": 70,
     "metadata": {},
     "output_type": "execute_result"
    },
    {
     "data": {
      "image/png": "[encoded data removed]",
      "text/plain": [
       "<Figure size 936x576 with 2 Axes>"
      ]
     },
     "metadata": {
      "needs_background": "light"
     },
     "output_type": "display_data"
    }
   ],
   "source": [
    "#Confusion Matrix Plot\n",
    "from sklearn.metrics import confusion_matrix\n",
    "mat = confusion_matrix(y_test, rfc_predict)\n",
    "plt.figure(figsize=(13, 8))\n",
    "sns.heatmap(mat, annot=True)"
   ]
  },
  {
   "cell_type": "code",
   "execution_count": 71,
   "id": "a1e68d9f",
   "metadata": {},
   "outputs": [
    {
     "data": {
      "image/png": "[encoded data removed]",
      "text/plain": [
       "<Figure size 432x288 with 1 Axes>"
      ]
     },
     "metadata": {
      "needs_background": "light"
     },
     "output_type": "display_data"
    }
   ],
   "source": [
    "#ROC curve\n",
    "from sklearn.metrics import roc_curve\n",
    "y_pred_proba = rfc.predict_proba(X_test)[:,1]\n",
    "fpr, tpr, thresholds = roc_curve(y_test, y_pred_proba)\n",
    "plt.plot([0,1],[0,1],'k-')\n",
    "plt.plot(fpr,tpr, label='RF')\n",
    "plt.xlabel('fpr')\n",
    "plt.ylabel('tpr')\n",
    "plt.title('ROC curve')\n",
    "plt.show()"
   ]
  },
  {
   "cell_type": "code",
   "execution_count": 72,
   "id": "a1633e85",
   "metadata": {},
   "outputs": [
    {
     "data": {
      "text/plain": [
       "0.829663251424368"
      ]
     },
     "execution_count": 72,
     "metadata": {},
     "output_type": "execute_result"
    }
   ],
   "source": [
    "#Area under ROC curve\n",
    "from sklearn.metrics import roc_auc_score\n",
    "roc_auc_score(y_test,y_pred_proba)"
   ]
  },
  {
   "cell_type": "markdown",
   "id": "f88e53be",
   "metadata": {},
   "source": [
    "# KNN classifier with n-Gram"
   ]
  },
  {
   "cell_type": "code",
   "execution_count": 43,
   "id": "0db079b0",
   "metadata": {},
   "outputs": [
    {
     "data": {
      "text/plain": [
       "0.8069755020138297"
      ]
     },
     "execution_count": 43,
     "metadata": {},
     "output_type": "execute_result"
    }
   ],
   "source": [
    "from sklearn.neighbors import KNeighborsClassifier\n",
    "knn=KNeighborsClassifier(n_neighbors=11)\n",
    "knn.fit(X_train,y_train)\n",
    "knn.score(X_test, y_test)"
   ]
  },
  {
   "cell_type": "code",
   "execution_count": 44,
   "id": "039823d1",
   "metadata": {},
   "outputs": [
    {
     "name": "stdout",
     "output_type": "stream",
     "text": [
      "              precision    recall  f1-score   support\n",
      "\n",
      "    Negative       0.48      0.14      0.21     13249\n",
      "    Positive       0.83      0.97      0.89     56022\n",
      "\n",
      "    accuracy                           0.81     69271\n",
      "   macro avg       0.65      0.55      0.55     69271\n",
      "weighted avg       0.76      0.81      0.76     69271\n",
      "\n"
     ]
    }
   ],
   "source": [
    "#Classification report for KNN Classifier \n",
    "knn_predict = knn.predict(X_test)\n",
    "knn_bow_report=classification_report(y_test,knn_predict,target_names=['Negative','Positive'])\n",
    "print(knn_bow_report)"
   ]
  },
  {
   "cell_type": "code",
   "execution_count": 45,
   "id": "75320888",
   "metadata": {},
   "outputs": [
    {
     "data": {
      "text/plain": [
       "<AxesSubplot:>"
      ]
     },
     "execution_count": 45,
     "metadata": {},
     "output_type": "execute_result"
    },
    {
     "data": {
      "image/png": "[encoded data removed]",
      "text/plain": [
       "<Figure size 936x576 with 2 Axes>"
      ]
     },
     "metadata": {
      "needs_background": "light"
     },
     "output_type": "display_data"
    }
   ],
   "source": [
    "#Confusion Matrix Plot\n",
    "from sklearn.metrics import confusion_matrix\n",
    "mat = confusion_matrix(y_test, knn_predict)\n",
    "plt.figure(figsize=(13, 8))\n",
    "sns.heatmap(mat, annot=True)"
   ]
  },
  {
   "cell_type": "code",
   "execution_count": 74,
   "id": "485d6ddb",
   "metadata": {},
   "outputs": [
    {
     "data": {
      "image/png": "[encoded data removed]",
      "text/plain": [
       "<Figure size 432x288 with 1 Axes>"
      ]
     },
     "metadata": {
      "needs_background": "light"
     },
     "output_type": "display_data"
    }
   ],
   "source": [
    "#ROC curve\n",
    "from sklearn.metrics import roc_curve\n",
    "y_pred_proba = knn.predict_proba(X_test)[:,1]\n",
    "fpr, tpr, thresholds = roc_curve(y_test, y_pred_proba)\n",
    "plt.plot([0,1],[0,1],'k-')\n",
    "plt.plot(fpr,tpr, label='Knn')\n",
    "plt.xlabel('fpr')\n",
    "plt.ylabel('tpr')\n",
    "plt.title('ROC curve')\n",
    "plt.show()"
   ]
  },
  {
   "cell_type": "code",
   "execution_count": 75,
   "id": "37896cfe",
   "metadata": {},
   "outputs": [
    {
     "data": {
      "text/plain": [
       "0.6846925471272071"
      ]
     },
     "execution_count": 75,
     "metadata": {},
     "output_type": "execute_result"
    }
   ],
   "source": [
    "#Area under ROC curve\n",
    "from sklearn.metrics import roc_auc_score\n",
    "roc_auc_score(y_test,y_pred_proba)"
   ]
  },
  {
   "cell_type": "markdown",
   "id": "ae47d6ff",
   "metadata": {},
   "source": [
    "# XG Boost Classifier BOW with n-Gram"
   ]
  },
  {
   "cell_type": "code",
   "execution_count": 34,
   "id": "dcb0383d",
   "metadata": {},
   "outputs": [
    {
     "name": "stdout",
     "output_type": "stream",
     "text": [
      "[20:25:44] WARNING: C:/Users/Administrator/workspace/xgboost-win64_release_1.5.1/src/learner.cc:1115: Starting in XGBoost 1.3.0, the default evaluation metric used with the objective 'binary:logistic' was changed from 'error' to 'logloss'. Explicitly set eval_metric if you'd like to restore the old behavior.\n"
     ]
    }
   ],
   "source": [
    "### XGBoost\n",
    "\n",
    "import xgboost as xg\n",
    "xgboost = xg.XGBClassifier(n_estimators=100, learning_rate=0.1, gamma=0, subsample=0.5,colsample_bytree=1, max_depth=8,use_label_encoder=False)\n",
    "\n",
    "xgboost.fit(X_train,y_train)\n",
    "\n",
    "### Prediction\n",
    "xg_predict=xgboost.predict(X_test)\n"
   ]
  },
  {
   "cell_type": "code",
   "execution_count": 39,
   "id": "738bae2f",
   "metadata": {},
   "outputs": [
    {
     "name": "stdout",
     "output_type": "stream",
     "text": [
      "              precision    recall  f1-score   support\n",
      "\n",
      "    Negative       0.78      0.20      0.31     13249\n",
      "    Positive       0.84      0.99      0.91     56022\n",
      "\n",
      "    accuracy                           0.84     69271\n",
      "   macro avg       0.81      0.59      0.61     69271\n",
      "weighted avg       0.83      0.84      0.79     69271\n",
      "\n"
     ]
    }
   ],
   "source": [
    "#Classification report for XG Boost\n",
    "xg_bow_report=classification_report(y_test,xg_predict,target_names=['Negative','Positive'])\n",
    "print(xg_bow_report)"
   ]
  },
  {
   "cell_type": "code",
   "execution_count": 40,
   "id": "c024ee2e",
   "metadata": {},
   "outputs": [
    {
     "data": {
      "text/plain": [
       "<AxesSubplot:>"
      ]
     },
     "execution_count": 40,
     "metadata": {},
     "output_type": "execute_result"
    },
    {
     "data": {
      "image/png": "[encoded data removed]",
      "text/plain": [
       "<Figure size 936x576 with 2 Axes>"
      ]
     },
     "metadata": {
      "needs_background": "light"
     },
     "output_type": "display_data"
    }
   ],
   "source": [
    "#Confusion Matrix Plot\n",
    "from sklearn.metrics import confusion_matrix\n",
    "mat = confusion_matrix(y_test, xg_predict)\n",
    "plt.figure(figsize=(13, 8))\n",
    "sns.heatmap(mat, annot=True)"
   ]
  },
  {
   "cell_type": "code",
   "execution_count": 41,
   "id": "18670175",
   "metadata": {},
   "outputs": [
    {
     "data": {
      "image/png": "[encoded data removed]",
      "text/plain": [
       "<Figure size 432x288 with 1 Axes>"
      ]
     },
     "metadata": {
      "needs_background": "light"
     },
     "output_type": "display_data"
    }
   ],
   "source": [
    "#ROC curve\n",
    "from sklearn.metrics import roc_curve\n",
    "y_pred_proba = xgboost.predict_proba(X_test)[:,1]\n",
    "fpr, tpr, thresholds = roc_curve(y_test, y_pred_proba)\n",
    "plt.plot([0,1],[0,1],'k-')\n",
    "plt.plot(fpr,tpr, label='Xgboost')\n",
    "plt.xlabel('fpr')\n",
    "plt.ylabel('tpr')\n",
    "plt.title('ROC curve')\n",
    "plt.show()"
   ]
  },
  {
   "cell_type": "code",
   "execution_count": 42,
   "id": "1af7a0d2",
   "metadata": {},
   "outputs": [
    {
     "data": {
      "text/plain": [
       "0.8293102859467465"
      ]
     },
     "execution_count": 42,
     "metadata": {},
     "output_type": "execute_result"
    }
   ],
   "source": [
    "#Area under ROC curve\n",
    "from sklearn.metrics import roc_auc_score\n",
    "roc_auc_score(y_test,y_pred_proba)"
   ]
  },
  {
   "cell_type": "markdown",
   "id": "8e27c47d",
   "metadata": {},
   "source": [
    "# TFIDF with ngram"
   ]
  },
  {
   "cell_type": "code",
   "execution_count": 78,
   "id": "6b778d1a",
   "metadata": {},
   "outputs": [],
   "source": [
    "\n",
    "X_train,X_test,y_train,y_test = train_test_split(df_new.reviewText,df_new.review_label,test_size=.2,random_state=0)\n",
    "tfidf_vectorizer = TfidfVectorizer(max_features=5000,ngram_range=(2,2))\n",
    "# TF-IDF feature matrix\n",
    "X_train= tfidf_vectorizer.fit_transform(X_train)\n",
    "X_test= tfidf_vectorizer.transform(X_test)"
   ]
  },
  {
   "cell_type": "code",
   "execution_count": 79,
   "id": "cb2df399",
   "metadata": {},
   "outputs": [
    {
     "data": {
      "text/html": [
       "<div>\n",
       "<style scoped>\n",
       "    .dataframe tbody tr th:only-of-type {\n",
       "        vertical-align: middle;\n",
       "    }\n",
       "\n",
       "    .dataframe tbody tr th {\n",
       "        vertical-align: top;\n",
       "    }\n",
       "\n",
       "    .dataframe thead th {\n",
       "        text-align: right;\n",
       "    }\n",
       "</style>\n",
       "<table border=\"1\" class=\"dataframe\">\n",
       "  <thead>\n",
       "    <tr style=\"text-align: right;\">\n",
       "      <th></th>\n",
       "      <th>index</th>\n",
       "      <th>review_label</th>\n",
       "    </tr>\n",
       "  </thead>\n",
       "  <tbody>\n",
       "    <tr>\n",
       "      <th>0</th>\n",
       "      <td>1</td>\n",
       "      <td>0.807622</td>\n",
       "    </tr>\n",
       "    <tr>\n",
       "      <th>1</th>\n",
       "      <td>0</td>\n",
       "      <td>0.192378</td>\n",
       "    </tr>\n",
       "  </tbody>\n",
       "</table>\n",
       "</div>"
      ],
      "text/plain": [
       "   index  review_label\n",
       "0      1      0.807622\n",
       "1      0      0.192378"
      ]
     },
     "execution_count": 79,
     "metadata": {},
     "output_type": "execute_result"
    }
   ],
   "source": [
    "dist=pd.DataFrame(y_train.value_counts()/y_train.shape[0]).reset_index()\n",
    "dist"
   ]
  },
  {
   "cell_type": "markdown",
   "id": "9bb4d02c",
   "metadata": {},
   "source": [
    "# LogisticRegressionTFIDF with n-Gram"
   ]
  },
  {
   "cell_type": "code",
   "execution_count": 80,
   "id": "f93dbdaf",
   "metadata": {},
   "outputs": [
    {
     "name": "stdout",
     "output_type": "stream",
     "text": [
      "Training set score: 0.862\n",
      "Test set score: 0.854\n"
     ]
    },
    {
     "name": "stderr",
     "output_type": "stream",
     "text": [
      "C:\\Users\\dell\\anaconda3\\lib\\site-packages\\sklearn\\linear_model\\_logistic.py:763: ConvergenceWarning: lbfgs failed to converge (status=1):\n",
      "STOP: TOTAL NO. of ITERATIONS REACHED LIMIT.\n",
      "\n",
      "Increase the number of iterations (max_iter) or scale the data as shown in:\n",
      "    https://scikit-learn.org/stable/modules/preprocessing.html\n",
      "Please also refer to the documentation for alternative solver options:\n",
      "    https://scikit-learn.org/stable/modules/linear_model.html#logistic-regression\n",
      "  n_iter_i = _check_optimize_result(\n"
     ]
    }
   ],
   "source": [
    "### Logistic regression for TFIDF\n",
    "from sklearn.linear_model import LogisticRegression\n",
    "logreg = LogisticRegression(random_state=13)\n",
    "logreg.fit(X_train, y_train)\n",
    "print(\"Training set score: {:.3f}\".format(logreg.score(X_train, y_train)))\n",
    "print(\"Test set score: {:.3f}\".format(logreg.score(X_test, y_test)))\n"
   ]
  },
  {
   "cell_type": "code",
   "execution_count": 81,
   "id": "d746cf9b",
   "metadata": {},
   "outputs": [
    {
     "name": "stdout",
     "output_type": "stream",
     "text": [
      "              precision    recall  f1-score   support\n",
      "\n",
      "    Negative       0.73      0.38      0.50     13249\n",
      "    Positive       0.87      0.97      0.91     56022\n",
      "\n",
      "    accuracy                           0.85     69271\n",
      "   macro avg       0.80      0.67      0.71     69271\n",
      "weighted avg       0.84      0.85      0.83     69271\n",
      "\n"
     ]
    }
   ],
   "source": [
    "#Classification report for Logistic Regression \n",
    "log_predict=logreg.predict(X_test)\n",
    "log_tfidf_report=classification_report(y_test,log_predict,target_names=['Negative','Positive'])\n",
    "print(log_tfidf_report)\n"
   ]
  },
  {
   "cell_type": "code",
   "execution_count": 82,
   "id": "4049200f",
   "metadata": {},
   "outputs": [
    {
     "data": {
      "text/plain": [
       "<AxesSubplot:>"
      ]
     },
     "execution_count": 82,
     "metadata": {},
     "output_type": "execute_result"
    },
    {
     "data": {
      "image/png": "[encoded data removed]",
      "text/plain": [
       "<Figure size 936x576 with 2 Axes>"
      ]
     },
     "metadata": {
      "needs_background": "light"
     },
     "output_type": "display_data"
    }
   ],
   "source": [
    "#Confusion Matrix Plot\n",
    "from sklearn.metrics import confusion_matrix\n",
    "mat = confusion_matrix(y_test, log_predict)\n",
    "plt.figure(figsize=(13, 8))\n",
    "sns.heatmap(mat, annot=True)"
   ]
  },
  {
   "cell_type": "code",
   "execution_count": 83,
   "id": "14231766",
   "metadata": {},
   "outputs": [
    {
     "data": {
      "image/png": "[encoded data removed]",
      "text/plain": [
       "<Figure size 432x288 with 1 Axes>"
      ]
     },
     "metadata": {
      "needs_background": "light"
     },
     "output_type": "display_data"
    }
   ],
   "source": [
    "#ROC curve\n",
    "from sklearn.metrics import roc_curve\n",
    "y_pred_proba = logreg.predict_proba(X_test)[:,1]\n",
    "fpr, tpr, thresholds = roc_curve(y_test, y_pred_proba)\n",
    "plt.plot([0,1],[0,1],'k-')\n",
    "plt.plot(fpr,tpr, label='LogisticREgression')\n",
    "plt.xlabel('fpr')\n",
    "plt.ylabel('tpr')\n",
    "plt.title('ROC curve')\n",
    "plt.show()"
   ]
  },
  {
   "cell_type": "code",
   "execution_count": 84,
   "id": "24436d38",
   "metadata": {},
   "outputs": [
    {
     "data": {
      "text/plain": [
       "0.8550594101350676"
      ]
     },
     "execution_count": 84,
     "metadata": {},
     "output_type": "execute_result"
    }
   ],
   "source": [
    "#Area under ROC curve\n",
    "from sklearn.metrics import roc_auc_score\n",
    "roc_auc_score(y_test,y_pred_proba)"
   ]
  },
  {
   "cell_type": "markdown",
   "id": "a01e1b24",
   "metadata": {},
   "source": [
    "# XGBOOST TFIDF with n-Gram"
   ]
  },
  {
   "cell_type": "code",
   "execution_count": 86,
   "id": "12c5feea",
   "metadata": {},
   "outputs": [
    {
     "name": "stdout",
     "output_type": "stream",
     "text": [
      "[17:47:21] WARNING: C:/Users/Administrator/workspace/xgboost-win64_release_1.5.1/src/learner.cc:1115: Starting in XGBoost 1.3.0, the default evaluation metric used with the objective 'binary:logistic' was changed from 'error' to 'logloss'. Explicitly set eval_metric if you'd like to restore the old behavior.\n"
     ]
    }
   ],
   "source": [
    "### XGBoost\n",
    "\n",
    "import xgboost as xg\n",
    "xgboost = xg.XGBClassifier(n_estimators=100, learning_rate=0.1, gamma=0, subsample=0.5,colsample_bytree=1, max_depth=8,use_label_encoder=False)\n",
    "\n",
    "xgboost.fit(X_train,y_train)\n",
    "\n",
    "### Prediction\n",
    "xg_predict=xgboost.predict(X_test)"
   ]
  },
  {
   "cell_type": "code",
   "execution_count": 51,
   "id": "250d264a",
   "metadata": {},
   "outputs": [
    {
     "name": "stdout",
     "output_type": "stream",
     "text": [
      "              precision    recall  f1-score   support\n",
      "\n",
      "    Negative       0.78      0.20      0.31     13249\n",
      "    Positive       0.84      0.99      0.91     56022\n",
      "\n",
      "    accuracy                           0.84     69271\n",
      "   macro avg       0.81      0.59      0.61     69271\n",
      "weighted avg       0.83      0.84      0.79     69271\n",
      "\n"
     ]
    }
   ],
   "source": [
    "#Classification Report for XGboost Classifier\n",
    "xg_tfidf_report=classification_report(y_test,xg_predict,target_names=['Negative','Positive'])\n",
    "print(xg_tfidf_report)"
   ]
  },
  {
   "cell_type": "code",
   "execution_count": 52,
   "id": "ef4932bc",
   "metadata": {},
   "outputs": [
    {
     "data": {
      "text/plain": [
       "<AxesSubplot:>"
      ]
     },
     "execution_count": 52,
     "metadata": {},
     "output_type": "execute_result"
    },
    {
     "data": {
      "image/png": "[encoded data removed]",
      "text/plain": [
       "<Figure size 936x576 with 2 Axes>"
      ]
     },
     "metadata": {
      "needs_background": "light"
     },
     "output_type": "display_data"
    }
   ],
   "source": [
    "#Confusion Matrix Plot\n",
    "from sklearn.metrics import confusion_matrix\n",
    "mat = confusion_matrix(y_test, xg_predict)\n",
    "plt.figure(figsize=(13, 8))\n",
    "sns.heatmap(mat, annot=True)"
   ]
  },
  {
   "cell_type": "code",
   "execution_count": 53,
   "id": "a15ead1f",
   "metadata": {},
   "outputs": [
    {
     "data": {
      "image/png": "[encoded data removed]",
      "text/plain": [
       "<Figure size 432x288 with 1 Axes>"
      ]
     },
     "metadata": {
      "needs_background": "light"
     },
     "output_type": "display_data"
    }
   ],
   "source": [
    "#ROC curve\n",
    "from sklearn.metrics import roc_curve\n",
    "y_pred_proba = xgboost.predict_proba(X_test)[:,1]\n",
    "fpr, tpr, thresholds = roc_curve(y_test, y_pred_proba)\n",
    "plt.plot([0,1],[0,1],'k-')\n",
    "plt.plot(fpr,tpr, label='Knn')\n",
    "plt.xlabel('fpr')\n",
    "plt.ylabel('tpr')\n",
    "plt.title('ROC curve')\n",
    "plt.show()"
   ]
  },
  {
   "cell_type": "code",
   "execution_count": 54,
   "id": "284905e3",
   "metadata": {},
   "outputs": [
    {
     "data": {
      "text/plain": [
       "0.8293102859467465"
      ]
     },
     "execution_count": 54,
     "metadata": {},
     "output_type": "execute_result"
    }
   ],
   "source": [
    "#Area under ROC curve for XGboost Classifier\n",
    "from sklearn.metrics import roc_auc_score\n",
    "roc_auc_score(y_test,y_pred_proba)"
   ]
  },
  {
   "cell_type": "markdown",
   "id": "b96bfbb9",
   "metadata": {},
   "source": [
    "# RandomForest Classifier TFIDF with n-Gram"
   ]
  },
  {
   "cell_type": "code",
   "execution_count": 46,
   "id": "d0a6281f",
   "metadata": {},
   "outputs": [
    {
     "name": "stdout",
     "output_type": "stream",
     "text": [
      "Training set score: 1.000\n",
      "Test set score: 0.838\n"
     ]
    }
   ],
   "source": [
    "###Running Random Forest classifier\n",
    "\n",
    "from sklearn.ensemble import RandomForestClassifier\n",
    "rfc = RandomForestClassifier()\n",
    "rfc.fit(X_train, y_train)\n",
    "\n",
    "rfc.score(X_test, y_test)\n",
    "print(\"Training set score: {:.3f}\".format(rfc.score(X_train, y_train)))\n",
    "print(\"Test set score: {:.3f}\".format(rfc.score(X_test, y_test)))"
   ]
  },
  {
   "cell_type": "code",
   "execution_count": 47,
   "id": "7e3e0a21",
   "metadata": {},
   "outputs": [
    {
     "name": "stdout",
     "output_type": "stream",
     "text": [
      "              precision    recall  f1-score   support\n",
      "\n",
      "    Negative       0.81      0.20      0.32     13249\n",
      "    Positive       0.84      0.99      0.91     56022\n",
      "\n",
      "    accuracy                           0.84     69271\n",
      "   macro avg       0.82      0.59      0.61     69271\n",
      "weighted avg       0.83      0.84      0.80     69271\n",
      "\n"
     ]
    }
   ],
   "source": [
    "#Classification report for RandomForest Classifier \n",
    "rfc_predict=rfc.predict(X_test)\n",
    "rfc_tfidf_report=classification_report(y_test,rfc_predict,target_names=['Negative','Positive'])\n",
    "print(rfc_tfidf_report)"
   ]
  },
  {
   "cell_type": "code",
   "execution_count": 48,
   "id": "3776a010",
   "metadata": {},
   "outputs": [
    {
     "data": {
      "text/plain": [
       "<AxesSubplot:>"
      ]
     },
     "execution_count": 48,
     "metadata": {},
     "output_type": "execute_result"
    },
    {
     "data": {
      "image/png": "[encoded data removed]",
      "text/plain": [
       "<Figure size 936x576 with 2 Axes>"
      ]
     },
     "metadata": {
      "needs_background": "light"
     },
     "output_type": "display_data"
    }
   ],
   "source": [
    "#Confusion Matrix Plot\n",
    "from sklearn.metrics import confusion_matrix\n",
    "mat = confusion_matrix(y_test, rfc_predict)\n",
    "plt.figure(figsize=(13, 8))\n",
    "sns.heatmap(mat, annot=True)"
   ]
  },
  {
   "cell_type": "code",
   "execution_count": 49,
   "id": "5fe50d18",
   "metadata": {},
   "outputs": [
    {
     "data": {
      "image/png": "[encoded data removed]",
      "text/plain": [
       "<Figure size 432x288 with 1 Axes>"
      ]
     },
     "metadata": {
      "needs_background": "light"
     },
     "output_type": "display_data"
    }
   ],
   "source": [
    "#ROC curve\n",
    "from sklearn.metrics import roc_curve\n",
    "y_pred_proba = rfc.predict_proba(X_test)[:,1]\n",
    "fpr, tpr, thresholds = roc_curve(y_test, y_pred_proba)\n",
    "plt.plot([0,1],[0,1],'k-')\n",
    "plt.plot(fpr,tpr, label='RF')\n",
    "plt.xlabel('fpr')\n",
    "plt.ylabel('tpr')\n",
    "plt.title('ROC curve')\n",
    "plt.show()"
   ]
  },
  {
   "cell_type": "code",
   "execution_count": 50,
   "id": "51ac3acb",
   "metadata": {},
   "outputs": [
    {
     "data": {
      "text/plain": [
       "0.8281893485560388"
      ]
     },
     "execution_count": 50,
     "metadata": {},
     "output_type": "execute_result"
    }
   ],
   "source": [
    "#Area under ROC curve for RandomForest Classifier\n",
    "from sklearn.metrics import roc_auc_score\n",
    "roc_auc_score(y_test,y_pred_proba)"
   ]
  },
  {
   "cell_type": "markdown",
   "id": "b2b5384c",
   "metadata": {},
   "source": [
    "# XG boost is performing best as it has good recall and highest AUC score amongst all models and is therefore choosen as the selected model for classification."
   ]
  }
 ],
 "metadata": {
  "kernelspec": {
   "display_name": "Python 3 (ipykernel)",
   "language": "python",
   "name": "python3"
  },
  "language_info": {
   "codemirror_mode": {
    "name": "ipython",
    "version": 3
   },
   "file_extension": ".py",
   "mimetype": "text/x-python",
   "name": "python",
   "nbconvert_exporter": "python",
   "pygments_lexer": "ipython3",
   "version": "3.9.7"
  }
 },
 "nbformat": 4,
 "nbformat_minor": 5
}
